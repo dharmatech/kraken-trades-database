{
 "cells": [
  {
   "cell_type": "code",
   "execution_count": null,
   "metadata": {
    "dotnet_interactive": {
     "language": "csharp"
    }
   },
   "outputs": [
    {
     "data": {
      "text/html": [
       "<div><div></div><div></div><div><strong>Installed Packages</strong><ul><li><span>KrakenExchange.Net, 2.2.3</span></li><li><span>Microsoft.EntityFrameworkCore.Design, 6.0.1</span></li><li><span>Npgsql.EntityFrameworkCore.PostgreSQL, 6.0.1</span></li></ul></div></div>"
      ]
     },
     "metadata": {},
     "output_type": "display_data"
    }
   ],
   "source": [
    "#r \"nuget:Microsoft.EntityFrameworkCore.Design\"\n",
    "#r \"nuget:Npgsql.EntityFrameworkCore.PostgreSQL\"\n",
    "#r \"nuget:KrakenExchange.Net,2.2.3\"\n",
    "\n",
    "#r \"..\\KrakenTradesDatabase\\bin\\Debug\\net6.0\\KrakenTradesDatabase.dll\""
   ]
  },
  {
   "cell_type": "code",
   "execution_count": null,
   "metadata": {
    "dotnet_interactive": {
     "language": "csharp"
    }
   },
   "outputs": [],
   "source": [
    "using KrakenTradesDatabase;\n",
    "\n",
    "var db = new AppDbContext();"
   ]
  },
  {
   "cell_type": "code",
   "execution_count": null,
   "metadata": {
    "dotnet_interactive": {
     "language": "csharp"
    }
   },
   "outputs": [
    {
     "data": {
      "text/html": [
       "<table><thead><tr><th><i>index</i></th><th>Id</th><th>Name</th></tr></thead><tbody><tr><td>0</td><td><div class=\"dni-plaintext\">1</div></td><td>1INCHEUR</td></tr><tr><td>1</td><td><div class=\"dni-plaintext\">2</div></td><td>1INCHUSD</td></tr><tr><td>2</td><td><div class=\"dni-plaintext\">3</div></td><td>AAVEAUD</td></tr><tr><td>3</td><td><div class=\"dni-plaintext\">4</div></td><td>AAVEETH</td></tr><tr><td>4</td><td><div class=\"dni-plaintext\">5</div></td><td>AAVEEUR</td></tr><tr><td>5</td><td><div class=\"dni-plaintext\">6</div></td><td>AAVEGBP</td></tr><tr><td>6</td><td><div class=\"dni-plaintext\">7</div></td><td>AAVEUSD</td></tr><tr><td>7</td><td><div class=\"dni-plaintext\">8</div></td><td>AAVEXBT</td></tr><tr><td>8</td><td><div class=\"dni-plaintext\">9</div></td><td>ADAAUD</td></tr><tr><td>9</td><td><div class=\"dni-plaintext\">10</div></td><td>ADAETH</td></tr><tr><td>10</td><td><div class=\"dni-plaintext\">11</div></td><td>ADAEUR</td></tr><tr><td>11</td><td><div class=\"dni-plaintext\">12</div></td><td>ADAGBP</td></tr><tr><td>12</td><td><div class=\"dni-plaintext\">13</div></td><td>ADAUSD</td></tr><tr><td>13</td><td><div class=\"dni-plaintext\">14</div></td><td>ADAUSDT</td></tr><tr><td>14</td><td><div class=\"dni-plaintext\">15</div></td><td>ADAXBT</td></tr><tr><td>15</td><td><div class=\"dni-plaintext\">16</div></td><td>ALGOETH</td></tr><tr><td>16</td><td><div class=\"dni-plaintext\">17</div></td><td>ALGOEUR</td></tr><tr><td>17</td><td><div class=\"dni-plaintext\">18</div></td><td>ALGOGBP</td></tr><tr><td>18</td><td><div class=\"dni-plaintext\">19</div></td><td>ALGOUSD</td></tr><tr><td>19</td><td><div class=\"dni-plaintext\">20</div></td><td>ALGOXBT</td></tr><tr><td colspan=\"3\"><i>... (more)</i></td></tr></tbody></table>"
      ]
     },
     "metadata": {},
     "output_type": "display_data"
    }
   ],
   "source": [
    "db.Symbols"
   ]
  },
  {
   "cell_type": "code",
   "execution_count": null,
   "metadata": {
    "dotnet_interactive": {
     "language": "csharp"
    }
   },
   "outputs": [],
   "source": [
    "db.Trades.Take(10)"
   ]
  },
  {
   "cell_type": "code",
   "execution_count": null,
   "metadata": {
    "dotnet_interactive": {
     "language": "csharp"
    }
   },
   "outputs": [
    {
     "data": {
      "text/html": [
       "<table><thead><tr><th><i>index</i></th><th>Id</th><th>SymbolId</th><th>Symbol</th><th>Price</th><th>Quantity</th><th>TimeStamp</th><th>Side</th><th>Type</th></tr></thead><tbody><tr><td>0</td><td><div class=\"dni-plaintext\">71974119</div></td><td><div class=\"dni-plaintext\">50</div></td><td><div class=\"dni-plaintext\">&lt;null&gt;</div></td><td><div class=\"dni-plaintext\">45870.00000</div></td><td><div class=\"dni-plaintext\">0.00961584</div></td><td><span>2021-08-15 07:47:40Z</span></td><td><span>Buy</span></td><td><span>Limit</span></td></tr><tr><td>1</td><td><div class=\"dni-plaintext\">71974120</div></td><td><div class=\"dni-plaintext\">50</div></td><td><div class=\"dni-plaintext\">&lt;null&gt;</div></td><td><div class=\"dni-plaintext\">45870.00000</div></td><td><div class=\"dni-plaintext\">0.03905842</div></td><td><span>2021-08-15 07:47:40Z</span></td><td><span>Buy</span></td><td><span>Limit</span></td></tr><tr><td>2</td><td><div class=\"dni-plaintext\">71974121</div></td><td><div class=\"dni-plaintext\">50</div></td><td><div class=\"dni-plaintext\">&lt;null&gt;</div></td><td><div class=\"dni-plaintext\">45870.00000</div></td><td><div class=\"dni-plaintext\">0.00624596</div></td><td><span>2021-08-15 07:47:40Z</span></td><td><span>Buy</span></td><td><span>Limit</span></td></tr><tr><td>3</td><td><div class=\"dni-plaintext\">71974122</div></td><td><div class=\"dni-plaintext\">50</div></td><td><div class=\"dni-plaintext\">&lt;null&gt;</div></td><td><div class=\"dni-plaintext\">45870.00000</div></td><td><div class=\"dni-plaintext\">0.01926528</div></td><td><span>2021-08-15 07:47:41Z</span></td><td><span>Buy</span></td><td><span>Limit</span></td></tr><tr><td>4</td><td><div class=\"dni-plaintext\">71974123</div></td><td><div class=\"dni-plaintext\">50</div></td><td><div class=\"dni-plaintext\">&lt;null&gt;</div></td><td><div class=\"dni-plaintext\">45870.00000</div></td><td><div class=\"dni-plaintext\">0.00004613</div></td><td><span>2021-08-15 07:47:41Z</span></td><td><span>Buy</span></td><td><span>Limit</span></td></tr><tr><td>5</td><td><div class=\"dni-plaintext\">71974124</div></td><td><div class=\"dni-plaintext\">50</div></td><td><div class=\"dni-plaintext\">&lt;null&gt;</div></td><td><div class=\"dni-plaintext\">45870.00000</div></td><td><div class=\"dni-plaintext\">0.00000011</div></td><td><span>2021-08-15 07:47:41Z</span></td><td><span>Buy</span></td><td><span>Limit</span></td></tr><tr><td>6</td><td><div class=\"dni-plaintext\">71974125</div></td><td><div class=\"dni-plaintext\">50</div></td><td><div class=\"dni-plaintext\">&lt;null&gt;</div></td><td><div class=\"dni-plaintext\">45870.00000</div></td><td><div class=\"dni-plaintext\">0.06540223</div></td><td><span>2021-08-15 07:47:41Z</span></td><td><span>Buy</span></td><td><span>Limit</span></td></tr><tr><td>7</td><td><div class=\"dni-plaintext\">71974126</div></td><td><div class=\"dni-plaintext\">50</div></td><td><div class=\"dni-plaintext\">&lt;null&gt;</div></td><td><div class=\"dni-plaintext\">45870.00000</div></td><td><div class=\"dni-plaintext\">0.25646497</div></td><td><span>2021-08-15 07:47:41Z</span></td><td><span>Buy</span></td><td><span>Limit</span></td></tr><tr><td>8</td><td><div class=\"dni-plaintext\">71974127</div></td><td><div class=\"dni-plaintext\">50</div></td><td><div class=\"dni-plaintext\">&lt;null&gt;</div></td><td><div class=\"dni-plaintext\">45870.00000</div></td><td><div class=\"dni-plaintext\">0.06619999</div></td><td><span>2021-08-15 07:47:42Z</span></td><td><span>Buy</span></td><td><span>Limit</span></td></tr><tr><td>9</td><td><div class=\"dni-plaintext\">71974128</div></td><td><div class=\"dni-plaintext\">50</div></td><td><div class=\"dni-plaintext\">&lt;null&gt;</div></td><td><div class=\"dni-plaintext\">45870.00000</div></td><td><div class=\"dni-plaintext\">0.10555124</div></td><td><span>2021-08-15 07:47:42Z</span></td><td><span>Buy</span></td><td><span>Limit</span></td></tr><tr><td>10</td><td><div class=\"dni-plaintext\">71974129</div></td><td><div class=\"dni-plaintext\">50</div></td><td><div class=\"dni-plaintext\">&lt;null&gt;</div></td><td><div class=\"dni-plaintext\">45858.00000</div></td><td><div class=\"dni-plaintext\">0.14125797</div></td><td><span>2021-08-15 07:47:42Z</span></td><td><span>Buy</span></td><td><span>Limit</span></td></tr><tr><td>11</td><td><div class=\"dni-plaintext\">71974130</div></td><td><div class=\"dni-plaintext\">50</div></td><td><div class=\"dni-plaintext\">&lt;null&gt;</div></td><td><div class=\"dni-plaintext\">45857.90000</div></td><td><div class=\"dni-plaintext\">0.00013519</div></td><td><span>2021-08-15 07:47:43Z</span></td><td><span>Buy</span></td><td><span>Limit</span></td></tr><tr><td>12</td><td><div class=\"dni-plaintext\">71974131</div></td><td><div class=\"dni-plaintext\">50</div></td><td><div class=\"dni-plaintext\">&lt;null&gt;</div></td><td><div class=\"dni-plaintext\">45852.90000</div></td><td><div class=\"dni-plaintext\">0.00148839</div></td><td><span>2021-08-15 07:47:43Z</span></td><td><span>Buy</span></td><td><span>Limit</span></td></tr><tr><td>13</td><td><div class=\"dni-plaintext\">71974132</div></td><td><div class=\"dni-plaintext\">50</div></td><td><div class=\"dni-plaintext\">&lt;null&gt;</div></td><td><div class=\"dni-plaintext\">45850.00000</div></td><td><div class=\"dni-plaintext\">0.05115204</div></td><td><span>2021-08-15 07:47:43Z</span></td><td><span>Buy</span></td><td><span>Limit</span></td></tr><tr><td>14</td><td><div class=\"dni-plaintext\">71974133</div></td><td><div class=\"dni-plaintext\">50</div></td><td><div class=\"dni-plaintext\">&lt;null&gt;</div></td><td><div class=\"dni-plaintext\">45850.00000</div></td><td><div class=\"dni-plaintext\">0.04884796</div></td><td><span>2021-08-15 07:47:43Z</span></td><td><span>Buy</span></td><td><span>Limit</span></td></tr><tr><td>15</td><td><div class=\"dni-plaintext\">71974134</div></td><td><div class=\"dni-plaintext\">50</div></td><td><div class=\"dni-plaintext\">&lt;null&gt;</div></td><td><div class=\"dni-plaintext\">45850.00000</div></td><td><div class=\"dni-plaintext\">0.00250000</div></td><td><span>2021-08-15 07:47:43Z</span></td><td><span>Buy</span></td><td><span>Limit</span></td></tr><tr><td>16</td><td><div class=\"dni-plaintext\">71974135</div></td><td><div class=\"dni-plaintext\">50</div></td><td><div class=\"dni-plaintext\">&lt;null&gt;</div></td><td><div class=\"dni-plaintext\">45850.00000</div></td><td><div class=\"dni-plaintext\">0.14700000</div></td><td><span>2021-08-15 07:47:43Z</span></td><td><span>Buy</span></td><td><span>Limit</span></td></tr><tr><td>17</td><td><div class=\"dni-plaintext\">71974136</div></td><td><div class=\"dni-plaintext\">50</div></td><td><div class=\"dni-plaintext\">&lt;null&gt;</div></td><td><div class=\"dni-plaintext\">45850.00000</div></td><td><div class=\"dni-plaintext\">0.00038790</div></td><td><span>2021-08-15 07:47:43Z</span></td><td><span>Buy</span></td><td><span>Limit</span></td></tr><tr><td>18</td><td><div class=\"dni-plaintext\">71974137</div></td><td><div class=\"dni-plaintext\">50</div></td><td><div class=\"dni-plaintext\">&lt;null&gt;</div></td><td><div class=\"dni-plaintext\">45850.00000</div></td><td><div class=\"dni-plaintext\">0.00000101</div></td><td><span>2021-08-15 07:47:43Z</span></td><td><span>Buy</span></td><td><span>Limit</span></td></tr><tr><td>19</td><td><div class=\"dni-plaintext\">71974138</div></td><td><div class=\"dni-plaintext\">50</div></td><td><div class=\"dni-plaintext\">&lt;null&gt;</div></td><td><div class=\"dni-plaintext\">45850.10000</div></td><td><div class=\"dni-plaintext\">0.01200000</div></td><td><span>2021-08-15 07:47:43Z</span></td><td><span>Buy</span></td><td><span>Limit</span></td></tr><tr><td colspan=\"9\"><i>... (more)</i></td></tr></tbody></table>"
      ]
     },
     "metadata": {},
     "output_type": "display_data"
    }
   ],
   "source": [
    "db.Trades.Take(100)"
   ]
  },
  {
   "cell_type": "code",
   "execution_count": null,
   "metadata": {
    "dotnet_interactive": {
     "language": "csharp"
    }
   },
   "outputs": [
    {
     "data": {
      "text/html": [
       "<table><thead><tr><th><i>index</i></th><th>value</th></tr></thead><tbody><tr><td>0</td><td><div class=\"dni-plaintext\">[ 2020-01-01 00:00:00Z, 2020-01-02 00:00:00Z, 2020-01-03 00:00:00Z, 2020-01-04 00:00:00Z, 2020-01-05 00:00:00Z, 2020-01-06 00:00:00Z, 2020-01-07 00:00:00Z, 2020-01-08 00:00:00Z, 2020-01-09 00:00:00Z, 2020-01-10 00:00:00Z, 2020-01-11 00:00:00Z, 2020-01-12 00:00:00Z, 2020-01-13 00:00:00Z, 2020-01-14 00:00:00Z, 2020-01-15 00:00:00Z, 2020-01-16 00:00:00Z, 2020-01-17 00:00:00Z, 2020-01-18 00:00:00Z, 2020-01-19 00:00:00Z, 2020-01-20 00:00:00Z ... (40 more) ]</div></td></tr><tr><td>1</td><td><div class=\"dni-plaintext\">[ 2020-03-01 00:00:00Z, 2020-03-02 00:00:00Z, 2020-03-03 00:00:00Z, 2020-03-04 00:00:00Z, 2020-03-05 00:00:00Z, 2020-03-06 00:00:00Z, 2020-03-07 00:00:00Z, 2020-03-08 00:00:00Z, 2020-03-09 00:00:00Z, 2020-03-10 00:00:00Z, 2020-03-11 00:00:00Z, 2020-03-12 00:00:00Z, 2020-03-13 00:00:00Z, 2020-03-14 00:00:00Z, 2020-03-15 00:00:00Z, 2020-03-16 00:00:00Z, 2020-03-17 00:00:00Z, 2020-03-18 00:00:00Z, 2020-03-19 00:00:00Z, 2020-03-20 00:00:00Z ... (20 more) ]</div></td></tr></tbody></table>"
      ]
     },
     "metadata": {},
     "output_type": "display_data"
    }
   ],
   "source": [
    "Enumerable.Range(0, 100).Select(i => new DateTime(2020, 1, 1).AddDays(i))\n",
    "    .GroupBy(dt => \n",
    "        (int)\n",
    "        Math.Round(\n",
    "            (dt.Year * 100.0 + dt.Month) / 2.0,\n",
    "            0,\n",
    "            MidpointRounding.AwayFromZero))"
   ]
  },
  {
   "cell_type": "code",
   "execution_count": null,
   "metadata": {
    "dotnet_interactive": {
     "language": "csharp"
    }
   },
   "outputs": [],
   "source": [
    "public class Candle\n",
    "{\n",
    "    public DateTime DateTime { get; set; }\n",
    "    public decimal High { get; set; }\n",
    "    public decimal Low { get; set; }\n",
    "    public decimal Open { get; set; }\n",
    "    public decimal Close { get; set; }\n",
    "}"
   ]
  },
  {
   "cell_type": "code",
   "execution_count": null,
   "metadata": {
    "dotnet_interactive": {
     "language": "csharp"
    }
   },
   "outputs": [],
   "source": [
    "var timer = new System.Diagnostics.Stopwatch(); timer.Start();\n",
    "\n",
    "var symbol_id = db.Symbols.First(symbol => symbol.Name == \"XBTUSD\").Id;\n",
    "\n",
    "var result =\n",
    "db.Trades\n",
    "    .Where(trade => trade.SymbolId == symbol_id)\n",
    "    .ToList()\n",
    "    .GroupBy(trade => new\n",
    "    {\n",
    "        Val = (int)Math.Round(\n",
    "            (trade.TimeStamp.Year * 100.0 + trade.TimeStamp.Month) / 15.0,\n",
    "            0,\n",
    "            MidpointRounding.AwayFromZero)\n",
    "    })\n",
    "    .Select(group =>\n",
    "        new Candle()\n",
    "        {\n",
    "            DateTime = group.Min(trade => trade.TimeStamp),\n",
    "\n",
    "            High = group.Max(trade => trade.Price),\n",
    "            Low = group.Min(trade => trade.Price)\n",
    "        });\n",
    "\n",
    "timer.Stop();"
   ]
  },
  {
   "cell_type": "code",
   "execution_count": null,
   "metadata": {
    "dotnet_interactive": {
     "language": "csharp"
    }
   },
   "outputs": [
    {
     "data": {
      "text/html": [
       "<table><thead><tr><th><i>index</i></th><th>DateTime</th><th>High</th><th>Low</th><th>Open</th><th>Close</th></tr></thead><tbody><tr><td>0</td><td><span>2013-10-06 21:34:15Z</span></td><td><div class=\"dni-plaintext\">1198.80090</div></td><td><div class=\"dni-plaintext\">122.00000</div></td><td><div class=\"dni-plaintext\">0</div></td><td><div class=\"dni-plaintext\">0</div></td></tr><tr><td>1</td><td><span>2014-01-01 01:44:31Z</span></td><td><div class=\"dni-plaintext\">1019.00000</div></td><td><div class=\"dni-plaintext\">273.32564</div></td><td><div class=\"dni-plaintext\">0</div></td><td><div class=\"dni-plaintext\">0</div></td></tr><tr><td>2</td><td><span>2015-01-01 14:56:51Z</span></td><td><div class=\"dni-plaintext\">324.99787</div></td><td><div class=\"dni-plaintext\">175.00000</div></td><td><div class=\"dni-plaintext\">0</div></td><td><div class=\"dni-plaintext\">0</div></td></tr><tr><td>3</td><td><span>2015-03-01 00:05:37Z</span></td><td><div class=\"dni-plaintext\">489.99000</div></td><td><div class=\"dni-plaintext\">188.10761</div></td><td><div class=\"dni-plaintext\">0</div></td><td><div class=\"dni-plaintext\">0</div></td></tr><tr><td>4</td><td><span>2016-01-01 04:23:22Z</span></td><td><div class=\"dni-plaintext\">781.14800</div></td><td><div class=\"dni-plaintext\">351.76000</div></td><td><div class=\"dni-plaintext\">0</div></td><td><div class=\"dni-plaintext\">0</div></td></tr><tr><td>5</td><td><span>2016-08-01 00:01:43Z</span></td><td><div class=\"dni-plaintext\">982.00000</div></td><td><div class=\"dni-plaintext\">479.00000</div></td><td><div class=\"dni-plaintext\">0</div></td><td><div class=\"dni-plaintext\">0</div></td></tr><tr><td>6</td><td><span>2017-01-01 00:07:47Z</span></td><td><div class=\"dni-plaintext\">19660.00000</div></td><td><div class=\"dni-plaintext\">756.00100</div></td><td><div class=\"dni-plaintext\">0</div></td><td><div class=\"dni-plaintext\">0</div></td></tr><tr><td>7</td><td><span>2018-01-01 00:00:04Z</span></td><td><div class=\"dni-plaintext\">17245.00000</div></td><td><div class=\"dni-plaintext\">5850.00000</div></td><td><div class=\"dni-plaintext\">0</div></td><td><div class=\"dni-plaintext\">0</div></td></tr><tr><td>8</td><td><span>2018-03-01 00:00:03Z</span></td><td><div class=\"dni-plaintext\">11666.40000</div></td><td><div class=\"dni-plaintext\">3120.00000</div></td><td><div class=\"dni-plaintext\">0</div></td><td><div class=\"dni-plaintext\">0</div></td></tr><tr><td>9</td><td><span>2019-01-01 00:00:00Z</span></td><td><div class=\"dni-plaintext\">13875.70000</div></td><td><div class=\"dni-plaintext\">3337.00000</div></td><td><div class=\"dni-plaintext\">0</div></td><td><div class=\"dni-plaintext\">0</div></td></tr><tr><td>10</td><td><span>2019-08-01 00:00:03Z</span></td><td><div class=\"dni-plaintext\">12340.00000</div></td><td><div class=\"dni-plaintext\">6430.20000</div></td><td><div class=\"dni-plaintext\">0</div></td><td><div class=\"dni-plaintext\">0</div></td></tr><tr><td>11</td><td><span>2020-01-01 00:00:01Z</span></td><td><div class=\"dni-plaintext\">29291.70000</div></td><td><div class=\"dni-plaintext\">3913.10000</div></td><td><div class=\"dni-plaintext\">0</div></td><td><div class=\"dni-plaintext\">0</div></td></tr><tr><td>12</td><td><span>2021-01-01 00:00:02Z</span></td><td><div class=\"dni-plaintext\">58339.00000</div></td><td><div class=\"dni-plaintext\">27920.00000</div></td><td><div class=\"dni-plaintext\">0</div></td><td><div class=\"dni-plaintext\">0</div></td></tr><tr><td>13</td><td><span>2021-03-01 00:00:03Z</span></td><td><div class=\"dni-plaintext\">64900.00000</div></td><td><div class=\"dni-plaintext\">28816.60000</div></td><td><div class=\"dni-plaintext\">0</div></td><td><div class=\"dni-plaintext\">0</div></td></tr></tbody></table>"
      ]
     },
     "metadata": {},
     "output_type": "display_data"
    }
   ],
   "source": [
    "result"
   ]
  },
  {
   "cell_type": "code",
   "execution_count": null,
   "metadata": {
    "dotnet_interactive": {
     "language": "csharp"
    }
   },
   "outputs": [
    {
     "name": "stdout",
     "output_type": "stream",
     "text": [
      "2013-10       0.00    1198.80     122.00       0.00\r\n",
      "2014-01       0.00    1019.00     273.33       0.00\r\n",
      "2015-01       0.00     325.00     175.00       0.00\r\n",
      "2015-03       0.00     489.99     188.11       0.00\r\n",
      "2016-01       0.00     781.15     351.76       0.00\r\n",
      "2016-08       0.00     982.00     479.00       0.00\r\n",
      "2017-01       0.00   19660.00     756.00       0.00\r\n",
      "2018-01       0.00   17245.00    5850.00       0.00\r\n",
      "2018-03       0.00   11666.40    3120.00       0.00\r\n",
      "2019-01       0.00   13875.70    3337.00       0.00\r\n",
      "2019-08       0.00   12340.00    6430.20       0.00\r\n",
      "2020-01       0.00   29291.70    3913.10       0.00\r\n",
      "2021-01       0.00   58339.00   27920.00       0.00\r\n",
      "2021-03       0.00   64900.00   28816.60       0.00\r\n"
     ]
    }
   ],
   "source": [
    "foreach (var elt in result)\n",
    "{\n",
    "    Console.WriteLine(\"{0:yyyy-MM} {1,10:F} {2,10:F} {3,10:F} {4,10:F}\",\n",
    "        elt.DateTime,\n",
    "        elt.Open,\n",
    "        elt.High,\n",
    "        elt.Low,\n",
    "        elt.Close\n",
    "        );\n",
    "}"
   ]
  },
  {
   "cell_type": "code",
   "execution_count": null,
   "metadata": {
    "dotnet_interactive": {
     "language": "csharp"
    }
   },
   "outputs": [],
   "source": [
    "var groups = db.Trades\n",
    "    .Where(trade => trade.SymbolId == symbol_id)\n",
    "    .ToList()\n",
    "    .GroupBy(trade => new\n",
    "    {\n",
    "        Val = (int)Math.Round(\n",
    "            (trade.TimeStamp.Year * 100.0 + trade.TimeStamp.Month) / 15.0,\n",
    "            0,\n",
    "            MidpointRounding.AwayFromZero)\n",
    "    });"
   ]
  },
  {
   "cell_type": "code",
   "execution_count": null,
   "metadata": {
    "dotnet_interactive": {
     "language": "csharp"
    }
   },
   "outputs": [
    {
     "data": {
      "text/html": [
       "<table><thead><tr><th>Id</th><th>SymbolId</th><th>Symbol</th><th>Price</th><th>Quantity</th><th>TimeStamp</th><th>Side</th><th>Type</th></tr></thead><tbody><tr><td><div class=\"dni-plaintext\">31582956</div></td><td><div class=\"dni-plaintext\">50</div></td><td><div class=\"dni-plaintext\">{ KrakenTradesDatabase.Symbol: Id: 50, Name: XBTUSD }</div></td><td><div class=\"dni-plaintext\">122.00000</div></td><td><div class=\"dni-plaintext\">0.10000000</div></td><td><div class=\"dni-plaintext\">2013-10-06 21:34:15Z</div></td><td><div class=\"dni-plaintext\">Buy</div></td><td><div class=\"dni-plaintext\">Limit</div></td></tr></tbody></table>"
      ]
     },
     "metadata": {},
     "output_type": "display_data"
    }
   ],
   "source": [
    "groups.ElementAt(0).ElementAt(0)"
   ]
  },
  {
   "cell_type": "code",
   "execution_count": null,
   "metadata": {
    "dotnet_interactive": {
     "language": "csharp"
    }
   },
   "outputs": [],
   "source": [
    "var item = groups.ElementAt(0).ElementAt(0);"
   ]
  },
  {
   "cell_type": "code",
   "execution_count": null,
   "metadata": {
    "dotnet_interactive": {
     "language": "csharp"
    }
   },
   "outputs": [
    {
     "data": {
      "text/html": [
       "<span>2013-10-06 21:34:15Z</span>"
      ]
     },
     "metadata": {},
     "output_type": "display_data"
    },
    {
     "data": {
      "text/html": [
       "<div class=\"dni-plaintext\">13421</div>"
      ]
     },
     "metadata": {},
     "output_type": "display_data"
    }
   ],
   "source": [
    "var item = groups.ElementAt(0).ElementAt(0);\n",
    "\n",
    "display(item.TimeStamp);\n",
    "\n",
    "Math.Round((item.TimeStamp.Year * 100.0 + item.TimeStamp.Month) / 15.0, 0, MidpointRounding.AwayFromZero)"
   ]
  },
  {
   "cell_type": "code",
   "execution_count": null,
   "metadata": {
    "dotnet_interactive": {
     "language": "csharp"
    }
   },
   "outputs": [
    {
     "data": {
      "text/html": [
       "<span>2014-01-01 01:44:31Z</span>"
      ]
     },
     "metadata": {},
     "output_type": "display_data"
    },
    {
     "data": {
      "text/html": [
       "<div class=\"dni-plaintext\">13427</div>"
      ]
     },
     "metadata": {},
     "output_type": "display_data"
    }
   ],
   "source": [
    "var item = groups.ElementAt(1).ElementAt(0);\n",
    "\n",
    "display(item.TimeStamp);\n",
    "\n",
    "Math.Round((item.TimeStamp.Year * 100.0 + item.TimeStamp.Month) / 15.0, 0, MidpointRounding.AwayFromZero)"
   ]
  },
  {
   "cell_type": "code",
   "execution_count": null,
   "metadata": {
    "dotnet_interactive": {
     "language": "csharp"
    }
   },
   "outputs": [
    {
     "data": {
      "text/html": [
       "<div class=\"dni-plaintext\">346</div>"
      ]
     },
     "metadata": {},
     "output_type": "display_data"
    }
   ],
   "source": [
    "DateTime.Now.DayOfYear"
   ]
  },
  {
   "cell_type": "code",
   "execution_count": null,
   "metadata": {
    "dotnet_interactive": {
     "language": "csharp"
    }
   },
   "outputs": [
    {
     "data": {
      "text/html": [
       "<span>2021-12-12 00:00:00Z</span>"
      ]
     },
     "metadata": {},
     "output_type": "display_data"
    }
   ],
   "source": [
    "new DateTime(2021, 12, 12)"
   ]
  },
  {
   "cell_type": "code",
   "execution_count": null,
   "metadata": {
    "dotnet_interactive": {
     "language": "csharp"
    }
   },
   "outputs": [
    {
     "data": {
      "text/html": [
       "<span>1970-01-01 00:00:00Z</span>"
      ]
     },
     "metadata": {},
     "output_type": "display_data"
    }
   ],
   "source": [
    "DateTime.UnixEpoch"
   ]
  },
  {
   "cell_type": "code",
   "execution_count": null,
   "metadata": {
    "dotnet_interactive": {
     "language": "csharp"
    }
   },
   "outputs": [
    {
     "data": {
      "text/html": [
       "<div class=\"dni-plaintext\">6087.333333333333</div>"
      ]
     },
     "metadata": {},
     "output_type": "display_data"
    }
   ],
   "source": [
    "new DateTimeOffset(new DateTime(2020, 1, 1, 0, 0, 0, DateTimeKind.Utc)).ToUnixTimeSeconds() / TimeSpan.FromDays(3).TotalSeconds"
   ]
  },
  {
   "cell_type": "code",
   "execution_count": null,
   "metadata": {
    "dotnet_interactive": {
     "language": "csharp"
    }
   },
   "outputs": [
    {
     "data": {
      "text/html": [
       "<div class=\"dni-plaintext\">6088</div>"
      ]
     },
     "metadata": {},
     "output_type": "display_data"
    }
   ],
   "source": [
    "new DateTimeOffset(new DateTime(2020, 1, 3, 0, 0, 0, DateTimeKind.Utc)).ToUnixTimeSeconds() / TimeSpan.FromDays(3).TotalSeconds"
   ]
  },
  {
   "cell_type": "code",
   "execution_count": null,
   "metadata": {
    "dotnet_interactive": {
     "language": "csharp"
    }
   },
   "outputs": [
    {
     "data": {
      "text/html": [
       "<div class=\"dni-plaintext\">18264</div>"
      ]
     },
     "metadata": {},
     "output_type": "display_data"
    }
   ],
   "source": [
    "(long)\n",
    "Math.Round(\n",
    "    new DateTimeOffset(new DateTime(2020, 1, 3, 0, 0, 0, DateTimeKind.Utc)).ToUnixTimeSeconds() / TimeSpan.FromDays(3).TotalSeconds,\n",
    "    0,\n",
    "    MidpointRounding.AwayFromZero)\n",
    "*\n",
    "TimeSpan.FromSeconds(3).TotalSeconds"
   ]
  },
  {
   "cell_type": "code",
   "execution_count": null,
   "metadata": {
    "dotnet_interactive": {
     "language": "csharp"
    }
   },
   "outputs": [
    {
     "data": {
      "text/html": [
       "<div class=\"dni-plaintext\">1578009600</div>"
      ]
     },
     "metadata": {},
     "output_type": "display_data"
    },
    {
     "data": {
      "text/html": [
       "<div class=\"dni-plaintext\">259200</div>"
      ]
     },
     "metadata": {},
     "output_type": "display_data"
    },
    {
     "data": {
      "text/html": [
       "<div class=\"dni-plaintext\">6088</div>"
      ]
     },
     "metadata": {},
     "output_type": "display_data"
    }
   ],
   "source": [
    "display(new DateTimeOffset(new DateTime(2020, 1, 3, 0, 0, 0, DateTimeKind.Utc)).ToUnixTimeSeconds());\n",
    "\n",
    "display(TimeSpan.FromDays(3).TotalSeconds);\n",
    "\n",
    "display(new DateTimeOffset(new DateTime(2020, 1, 3, 0, 0, 0, DateTimeKind.Utc)).ToUnixTimeSeconds() / TimeSpan.FromDays(3).TotalSeconds);\n"
   ]
  },
  {
   "cell_type": "code",
   "execution_count": null,
   "metadata": {
    "dotnet_interactive": {
     "language": "csharp"
    }
   },
   "outputs": [
    {
     "data": {
      "text/html": [
       "<div class=\"dni-plaintext\">1578009600</div>"
      ]
     },
     "metadata": {},
     "output_type": "display_data"
    }
   ],
   "source": [
    "259200 * 6088"
   ]
  },
  {
   "cell_type": "code",
   "execution_count": null,
   "metadata": {
    "dotnet_interactive": {
     "language": "csharp"
    }
   },
   "outputs": [
    {
     "data": {
      "text/html": [
       "<div class=\"dni-plaintext\">1577750400</div>"
      ]
     },
     "metadata": {},
     "output_type": "display_data"
    }
   ],
   "source": [
    "(long)\n",
    "Math.Round(\n",
    "    new DateTimeOffset(new DateTime(2020, 1, 1, 0, 0, 0, DateTimeKind.Utc)).ToUnixTimeSeconds() / TimeSpan.FromDays(3).TotalSeconds,\n",
    "    0,\n",
    "    MidpointRounding.AwayFromZero)\n",
    "* \n",
    "TimeSpan.FromDays(3).TotalSeconds"
   ]
  },
  {
   "cell_type": "code",
   "execution_count": null,
   "metadata": {
    "dotnet_interactive": {
     "language": "csharp"
    }
   },
   "outputs": [
    {
     "data": {
      "text/html": [
       "<div class=\"dni-plaintext\">259200</div>"
      ]
     },
     "metadata": {},
     "output_type": "display_data"
    }
   ],
   "source": [
    "TimeSpan.FromDays(3).TotalSeconds"
   ]
  },
  {
   "cell_type": "code",
   "execution_count": null,
   "metadata": {
    "dotnet_interactive": {
     "language": "csharp"
    }
   },
   "outputs": [
    {
     "data": {
      "text/html": [
       "<div class=\"dni-plaintext\">24241</div>"
      ]
     },
     "metadata": {},
     "output_type": "display_data"
    }
   ],
   "source": [
    "var val = new DateTime(2020, 1, 1);\n",
    "\n",
    "val.Year * 12 + val.Month"
   ]
  },
  {
   "cell_type": "code",
   "execution_count": null,
   "metadata": {
    "dotnet_interactive": {
     "language": "csharp"
    }
   },
   "outputs": [
    {
     "data": {
      "text/html": [
       "<div class=\"dni-plaintext\">24252</div>"
      ]
     },
     "metadata": {},
     "output_type": "display_data"
    }
   ],
   "source": [
    "var val = new DateTime(2020, 12, 1);\n",
    "\n",
    "val.Year * 12 + val.Month"
   ]
  },
  {
   "cell_type": "code",
   "execution_count": null,
   "metadata": {
    "dotnet_interactive": {
     "language": "csharp"
    }
   },
   "outputs": [
    {
     "data": {
      "text/html": [
       "<div class=\"dni-plaintext\">24253</div>"
      ]
     },
     "metadata": {},
     "output_type": "display_data"
    }
   ],
   "source": [
    "var val = new DateTime(2021, 1, 1); val.Year * 12 + val.Month"
   ]
  },
  {
   "cell_type": "code",
   "execution_count": null,
   "metadata": {
    "dotnet_interactive": {
     "language": "csharp"
    }
   },
   "outputs": [
    {
     "data": {
      "text/html": [
       "<div class=\"dni-plaintext\">24254</div>"
      ]
     },
     "metadata": {},
     "output_type": "display_data"
    }
   ],
   "source": [
    "var val = new DateTime(2021, 2, 1); val.Year * 12 + val.Month"
   ]
  },
  {
   "cell_type": "code",
   "execution_count": null,
   "metadata": {
    "dotnet_interactive": {
     "language": "csharp"
    }
   },
   "outputs": [
    {
     "data": {
      "text/html": [
       "<div class=\"dni-plaintext\">24264</div>"
      ]
     },
     "metadata": {},
     "output_type": "display_data"
    }
   ],
   "source": [
    "var val = new DateTime(2021, 12, 1); val.Year * 12 + val.Month"
   ]
  },
  {
   "cell_type": "code",
   "execution_count": null,
   "metadata": {
    "dotnet_interactive": {
     "language": "csharp"
    }
   },
   "outputs": [
    {
     "data": {
      "text/html": [
       "<div class=\"dni-plaintext\">24265</div>"
      ]
     },
     "metadata": {},
     "output_type": "display_data"
    }
   ],
   "source": [
    "var val = new DateTime(2022, 1, 1); val.Year * 12 + val.Month"
   ]
  },
  {
   "cell_type": "code",
   "execution_count": null,
   "metadata": {
    "dotnet_interactive": {
     "language": "csharp"
    }
   },
   "outputs": [
    {
     "data": {
      "text/html": [
       "<span>2014-01-25 00:00:00Z</span>"
      ]
     },
     "metadata": {},
     "output_type": "display_data"
    }
   ],
   "source": [
    "new DateTime(2013, 10, 27).AddDays(90)"
   ]
  },
  {
   "cell_type": "code",
   "execution_count": null,
   "metadata": {
    "dotnet_interactive": {
     "language": "csharp"
    }
   },
   "outputs": [],
   "source": []
  }
 ],
 "metadata": {
  "kernelspec": {
   "display_name": ".NET (C#)",
   "language": "C#",
   "name": ".net-csharp"
  },
  "language_info": {
   "name": "C#"
  }
 },
 "nbformat": 4,
 "nbformat_minor": 2
}
