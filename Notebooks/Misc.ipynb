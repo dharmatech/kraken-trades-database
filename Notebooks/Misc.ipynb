{
 "cells": [
  {
   "cell_type": "code",
   "execution_count": null,
   "metadata": {
    "dotnet_interactive": {
     "language": "csharp"
    }
   },
   "outputs": [
    {
     "data": {
      "text/html": [
       "<div><div></div><div></div><div><strong>Installed Packages</strong><ul><li><span>KrakenExchange.Net, 2.2.3</span></li><li><span>Microsoft.EntityFrameworkCore.Design, 6.0.0</span></li><li><span>Npgsql.EntityFrameworkCore.PostgreSQL, 6.0.1</span></li></ul></div></div>"
      ]
     },
     "metadata": {},
     "output_type": "display_data"
    }
   ],
   "source": [
    "#r \"nuget:Microsoft.EntityFrameworkCore.Design\"\n",
    "#r \"nuget:Npgsql.EntityFrameworkCore.PostgreSQL\"\n",
    "#r \"nuget:KrakenExchange.Net,2.2.3\"\n",
    "\n",
    "#r \"..\\KrakenTradesDatabase\\bin\\Debug\\net6.0\\KrakenTradesDatabase.dll\""
   ]
  },
  {
   "cell_type": "code",
   "execution_count": null,
   "metadata": {
    "dotnet_interactive": {
     "language": "csharp"
    }
   },
   "outputs": [],
   "source": [
    "using KrakenTradesDatabase;\n",
    "\n",
    "var db = new AppDbContext();"
   ]
  },
  {
   "cell_type": "code",
   "execution_count": null,
   "metadata": {
    "dotnet_interactive": {
     "language": "csharp"
    }
   },
   "outputs": [
    {
     "data": {
      "text/html": [
       "<table><thead><tr><th><i>index</i></th><th>Id</th><th>Name</th></tr></thead><tbody><tr><td>0</td><td><div class=\"dni-plaintext\">1</div></td><td>1INCHEUR</td></tr><tr><td>1</td><td><div class=\"dni-plaintext\">2</div></td><td>1INCHUSD</td></tr><tr><td>2</td><td><div class=\"dni-plaintext\">3</div></td><td>AAVEAUD</td></tr><tr><td>3</td><td><div class=\"dni-plaintext\">4</div></td><td>AAVEETH</td></tr><tr><td>4</td><td><div class=\"dni-plaintext\">5</div></td><td>AAVEEUR</td></tr><tr><td>5</td><td><div class=\"dni-plaintext\">6</div></td><td>AAVEGBP</td></tr><tr><td>6</td><td><div class=\"dni-plaintext\">7</div></td><td>AAVEUSD</td></tr><tr><td>7</td><td><div class=\"dni-plaintext\">8</div></td><td>AAVEXBT</td></tr><tr><td>8</td><td><div class=\"dni-plaintext\">9</div></td><td>ADAAUD</td></tr><tr><td>9</td><td><div class=\"dni-plaintext\">10</div></td><td>ADAETH</td></tr><tr><td>10</td><td><div class=\"dni-plaintext\">11</div></td><td>ADAEUR</td></tr><tr><td>11</td><td><div class=\"dni-plaintext\">12</div></td><td>ADAGBP</td></tr><tr><td>12</td><td><div class=\"dni-plaintext\">13</div></td><td>ADAUSD</td></tr><tr><td>13</td><td><div class=\"dni-plaintext\">14</div></td><td>ADAUSDT</td></tr><tr><td>14</td><td><div class=\"dni-plaintext\">15</div></td><td>ADAXBT</td></tr><tr><td>15</td><td><div class=\"dni-plaintext\">16</div></td><td>ALGOETH</td></tr><tr><td>16</td><td><div class=\"dni-plaintext\">17</div></td><td>ALGOEUR</td></tr><tr><td>17</td><td><div class=\"dni-plaintext\">18</div></td><td>ALGOGBP</td></tr><tr><td>18</td><td><div class=\"dni-plaintext\">19</div></td><td>ALGOUSD</td></tr><tr><td>19</td><td><div class=\"dni-plaintext\">20</div></td><td>ALGOXBT</td></tr><tr><td colspan=\"3\"><i>... (more)</i></td></tr></tbody></table>"
      ]
     },
     "metadata": {},
     "output_type": "display_data"
    }
   ],
   "source": [
    "db.Symbols"
   ]
  },
  {
   "cell_type": "code",
   "execution_count": null,
   "metadata": {
    "dotnet_interactive": {
     "language": "csharp"
    }
   },
   "outputs": [
    {
     "data": {
      "text/html": [
       "<table><thead><tr><th><i>index</i></th><th>Id</th><th>SymbolId</th><th>Symbol</th><th>Price</th><th>Quantity</th><th>TimeStamp</th><th>Side</th><th>Type</th></tr></thead><tbody><tr><td>0</td><td><div class=\"dni-plaintext\">71984119</div></td><td><div class=\"dni-plaintext\">50</div></td><td><div class=\"dni-plaintext\">&lt;null&gt;</div></td><td><div class=\"dni-plaintext\">46060.80000</div></td><td><div class=\"dni-plaintext\">0.00217195</div></td><td><span>2021-08-15 18:02:09Z</span></td><td><span>Buy</span></td><td><span>Limit</span></td></tr><tr><td>1</td><td><div class=\"dni-plaintext\">71984120</div></td><td><div class=\"dni-plaintext\">50</div></td><td><div class=\"dni-plaintext\">&lt;null&gt;</div></td><td><div class=\"dni-plaintext\">46060.90000</div></td><td><div class=\"dni-plaintext\">0.00152949</div></td><td><span>2021-08-15 18:03:03Z</span></td><td><span>Buy</span></td><td><span>Limit</span></td></tr><tr><td>2</td><td><div class=\"dni-plaintext\">71984121</div></td><td><div class=\"dni-plaintext\">50</div></td><td><div class=\"dni-plaintext\">&lt;null&gt;</div></td><td><div class=\"dni-plaintext\">46060.90000</div></td><td><div class=\"dni-plaintext\">0.00287627</div></td><td><span>2021-08-15 18:03:03Z</span></td><td><span>Buy</span></td><td><span>Limit</span></td></tr><tr><td>3</td><td><div class=\"dni-plaintext\">71984122</div></td><td><div class=\"dni-plaintext\">50</div></td><td><div class=\"dni-plaintext\">&lt;null&gt;</div></td><td><div class=\"dni-plaintext\">46060.90000</div></td><td><div class=\"dni-plaintext\">0.00217117</div></td><td><span>2021-08-15 18:03:37Z</span></td><td><span>Buy</span></td><td><span>Limit</span></td></tr><tr><td>4</td><td><div class=\"dni-plaintext\">71984123</div></td><td><div class=\"dni-plaintext\">50</div></td><td><div class=\"dni-plaintext\">&lt;null&gt;</div></td><td><div class=\"dni-plaintext\">46060.90000</div></td><td><div class=\"dni-plaintext\">0.00213895</div></td><td><span>2021-08-15 18:03:48Z</span></td><td><span>Buy</span></td><td><span>Limit</span></td></tr><tr><td>5</td><td><div class=\"dni-plaintext\">71984124</div></td><td><div class=\"dni-plaintext\">50</div></td><td><div class=\"dni-plaintext\">&lt;null&gt;</div></td><td><div class=\"dni-plaintext\">46060.80000</div></td><td><div class=\"dni-plaintext\">0.00010714</div></td><td><span>2021-08-15 18:03:57Z</span></td><td><span>Buy</span></td><td><span>Limit</span></td></tr><tr><td>6</td><td><div class=\"dni-plaintext\">71984125</div></td><td><div class=\"dni-plaintext\">50</div></td><td><div class=\"dni-plaintext\">&lt;null&gt;</div></td><td><div class=\"dni-plaintext\">46060.80000</div></td><td><div class=\"dni-plaintext\">0.00154286</div></td><td><span>2021-08-15 18:03:57Z</span></td><td><span>Buy</span></td><td><span>Limit</span></td></tr><tr><td>7</td><td><div class=\"dni-plaintext\">71984126</div></td><td><div class=\"dni-plaintext\">50</div></td><td><div class=\"dni-plaintext\">&lt;null&gt;</div></td><td><div class=\"dni-plaintext\">46060.80000</div></td><td><div class=\"dni-plaintext\">0.00163119</div></td><td><span>2021-08-15 18:03:58Z</span></td><td><span>Buy</span></td><td><span>Limit</span></td></tr><tr><td>8</td><td><div class=\"dni-plaintext\">71984127</div></td><td><div class=\"dni-plaintext\">50</div></td><td><div class=\"dni-plaintext\">&lt;null&gt;</div></td><td><div class=\"dni-plaintext\">46056.90000</div></td><td><div class=\"dni-plaintext\">0.00051881</div></td><td><span>2021-08-15 18:03:58Z</span></td><td><span>Buy</span></td><td><span>Limit</span></td></tr><tr><td>9</td><td><div class=\"dni-plaintext\">71984128</div></td><td><div class=\"dni-plaintext\">50</div></td><td><div class=\"dni-plaintext\">&lt;null&gt;</div></td><td><div class=\"dni-plaintext\">46060.50000</div></td><td><div class=\"dni-plaintext\">0.01072387</div></td><td><span>2021-08-15 18:04:11Z</span></td><td><span>Buy</span></td><td><span>Limit</span></td></tr><tr><td>10</td><td><div class=\"dni-plaintext\">71984129</div></td><td><div class=\"dni-plaintext\">50</div></td><td><div class=\"dni-plaintext\">&lt;null&gt;</div></td><td><div class=\"dni-plaintext\">46060.40000</div></td><td><div class=\"dni-plaintext\">0.00659445</div></td><td><span>2021-08-15 18:04:25Z</span></td><td><span>Buy</span></td><td><span>Limit</span></td></tr><tr><td>11</td><td><div class=\"dni-plaintext\">71984130</div></td><td><div class=\"dni-plaintext\">50</div></td><td><div class=\"dni-plaintext\">&lt;null&gt;</div></td><td><div class=\"dni-plaintext\">46056.90000</div></td><td><div class=\"dni-plaintext\">0.01036096</div></td><td><span>2021-08-15 18:04:49Z</span></td><td><span>Buy</span></td><td><span>Limit</span></td></tr><tr><td>12</td><td><div class=\"dni-plaintext\">71984131</div></td><td><div class=\"dni-plaintext\">50</div></td><td><div class=\"dni-plaintext\">&lt;null&gt;</div></td><td><div class=\"dni-plaintext\">46056.90000</div></td><td><div class=\"dni-plaintext\">0.58800000</div></td><td><span>2021-08-15 18:04:49Z</span></td><td><span>Buy</span></td><td><span>Limit</span></td></tr><tr><td>13</td><td><div class=\"dni-plaintext\">71984132</div></td><td><div class=\"dni-plaintext\">50</div></td><td><div class=\"dni-plaintext\">&lt;null&gt;</div></td><td><div class=\"dni-plaintext\">46062.20000</div></td><td><div class=\"dni-plaintext\">0.00069776</div></td><td><span>2021-08-15 18:04:49Z</span></td><td><span>Buy</span></td><td><span>Limit</span></td></tr><tr><td>14</td><td><div class=\"dni-plaintext\">71984133</div></td><td><div class=\"dni-plaintext\">50</div></td><td><div class=\"dni-plaintext\">&lt;null&gt;</div></td><td><div class=\"dni-plaintext\">46064.70000</div></td><td><div class=\"dni-plaintext\">0.02841899</div></td><td><span>2021-08-15 18:04:49Z</span></td><td><span>Buy</span></td><td><span>Limit</span></td></tr><tr><td>15</td><td><div class=\"dni-plaintext\">71984134</div></td><td><div class=\"dni-plaintext\">50</div></td><td><div class=\"dni-plaintext\">&lt;null&gt;</div></td><td><div class=\"dni-plaintext\">46064.80000</div></td><td><div class=\"dni-plaintext\">0.37252229</div></td><td><span>2021-08-15 18:04:49Z</span></td><td><span>Buy</span></td><td><span>Limit</span></td></tr><tr><td>16</td><td><div class=\"dni-plaintext\">71984135</div></td><td><div class=\"dni-plaintext\">50</div></td><td><div class=\"dni-plaintext\">&lt;null&gt;</div></td><td><div class=\"dni-plaintext\">46070.00000</div></td><td><div class=\"dni-plaintext\">0.01366378</div></td><td><span>2021-08-15 18:05:09Z</span></td><td><span>Buy</span></td><td><span>Limit</span></td></tr><tr><td>17</td><td><div class=\"dni-plaintext\">71984136</div></td><td><div class=\"dni-plaintext\">50</div></td><td><div class=\"dni-plaintext\">&lt;null&gt;</div></td><td><div class=\"dni-plaintext\">46070.00000</div></td><td><div class=\"dni-plaintext\">0.01298063</div></td><td><span>2021-08-15 18:05:09Z</span></td><td><span>Buy</span></td><td><span>Limit</span></td></tr><tr><td>18</td><td><div class=\"dni-plaintext\">71984137</div></td><td><div class=\"dni-plaintext\">50</div></td><td><div class=\"dni-plaintext\">&lt;null&gt;</div></td><td><div class=\"dni-plaintext\">46069.70000</div></td><td><div class=\"dni-plaintext\">0.01007527</div></td><td><span>2021-08-15 18:05:15Z</span></td><td><span>Buy</span></td><td><span>Limit</span></td></tr><tr><td>19</td><td><div class=\"dni-plaintext\">71984138</div></td><td><div class=\"dni-plaintext\">50</div></td><td><div class=\"dni-plaintext\">&lt;null&gt;</div></td><td><div class=\"dni-plaintext\">46069.70000</div></td><td><div class=\"dni-plaintext\">0.00957098</div></td><td><span>2021-08-15 18:05:16Z</span></td><td><span>Buy</span></td><td><span>Limit</span></td></tr><tr><td colspan=\"9\"><i>... (more)</i></td></tr></tbody></table>"
      ]
     },
     "metadata": {},
     "output_type": "display_data"
    }
   ],
   "source": [
    "db.Trades.Skip(10000)"
   ]
  },
  {
   "cell_type": "code",
   "execution_count": null,
   "metadata": {
    "dotnet_interactive": {
     "language": "csharp"
    }
   },
   "outputs": [
    {
     "data": {
      "text/html": [
       "<table><thead><tr><th><i>index</i></th><th>Id</th><th>SymbolId</th><th>Symbol</th><th>Price</th><th>Quantity</th><th>TimeStamp</th><th>Side</th><th>Type</th></tr></thead><tbody><tr><td>0</td><td><div class=\"dni-plaintext\">71974119</div></td><td><div class=\"dni-plaintext\">50</div></td><td><div class=\"dni-plaintext\">&lt;null&gt;</div></td><td><div class=\"dni-plaintext\">45870.00000</div></td><td><div class=\"dni-plaintext\">0.00961584</div></td><td><span>2021-08-15 07:47:40Z</span></td><td><span>Buy</span></td><td><span>Limit</span></td></tr><tr><td>1</td><td><div class=\"dni-plaintext\">71974120</div></td><td><div class=\"dni-plaintext\">50</div></td><td><div class=\"dni-plaintext\">&lt;null&gt;</div></td><td><div class=\"dni-plaintext\">45870.00000</div></td><td><div class=\"dni-plaintext\">0.03905842</div></td><td><span>2021-08-15 07:47:40Z</span></td><td><span>Buy</span></td><td><span>Limit</span></td></tr><tr><td>2</td><td><div class=\"dni-plaintext\">71974121</div></td><td><div class=\"dni-plaintext\">50</div></td><td><div class=\"dni-plaintext\">&lt;null&gt;</div></td><td><div class=\"dni-plaintext\">45870.00000</div></td><td><div class=\"dni-plaintext\">0.00624596</div></td><td><span>2021-08-15 07:47:40Z</span></td><td><span>Buy</span></td><td><span>Limit</span></td></tr><tr><td>3</td><td><div class=\"dni-plaintext\">71974122</div></td><td><div class=\"dni-plaintext\">50</div></td><td><div class=\"dni-plaintext\">&lt;null&gt;</div></td><td><div class=\"dni-plaintext\">45870.00000</div></td><td><div class=\"dni-plaintext\">0.01926528</div></td><td><span>2021-08-15 07:47:41Z</span></td><td><span>Buy</span></td><td><span>Limit</span></td></tr><tr><td>4</td><td><div class=\"dni-plaintext\">71974123</div></td><td><div class=\"dni-plaintext\">50</div></td><td><div class=\"dni-plaintext\">&lt;null&gt;</div></td><td><div class=\"dni-plaintext\">45870.00000</div></td><td><div class=\"dni-plaintext\">0.00004613</div></td><td><span>2021-08-15 07:47:41Z</span></td><td><span>Buy</span></td><td><span>Limit</span></td></tr><tr><td>5</td><td><div class=\"dni-plaintext\">71974124</div></td><td><div class=\"dni-plaintext\">50</div></td><td><div class=\"dni-plaintext\">&lt;null&gt;</div></td><td><div class=\"dni-plaintext\">45870.00000</div></td><td><div class=\"dni-plaintext\">0.00000011</div></td><td><span>2021-08-15 07:47:41Z</span></td><td><span>Buy</span></td><td><span>Limit</span></td></tr><tr><td>6</td><td><div class=\"dni-plaintext\">71974125</div></td><td><div class=\"dni-plaintext\">50</div></td><td><div class=\"dni-plaintext\">&lt;null&gt;</div></td><td><div class=\"dni-plaintext\">45870.00000</div></td><td><div class=\"dni-plaintext\">0.06540223</div></td><td><span>2021-08-15 07:47:41Z</span></td><td><span>Buy</span></td><td><span>Limit</span></td></tr><tr><td>7</td><td><div class=\"dni-plaintext\">71974126</div></td><td><div class=\"dni-plaintext\">50</div></td><td><div class=\"dni-plaintext\">&lt;null&gt;</div></td><td><div class=\"dni-plaintext\">45870.00000</div></td><td><div class=\"dni-plaintext\">0.25646497</div></td><td><span>2021-08-15 07:47:41Z</span></td><td><span>Buy</span></td><td><span>Limit</span></td></tr><tr><td>8</td><td><div class=\"dni-plaintext\">71974127</div></td><td><div class=\"dni-plaintext\">50</div></td><td><div class=\"dni-plaintext\">&lt;null&gt;</div></td><td><div class=\"dni-plaintext\">45870.00000</div></td><td><div class=\"dni-plaintext\">0.06619999</div></td><td><span>2021-08-15 07:47:42Z</span></td><td><span>Buy</span></td><td><span>Limit</span></td></tr><tr><td>9</td><td><div class=\"dni-plaintext\">71974128</div></td><td><div class=\"dni-plaintext\">50</div></td><td><div class=\"dni-plaintext\">&lt;null&gt;</div></td><td><div class=\"dni-plaintext\">45870.00000</div></td><td><div class=\"dni-plaintext\">0.10555124</div></td><td><span>2021-08-15 07:47:42Z</span></td><td><span>Buy</span></td><td><span>Limit</span></td></tr><tr><td>10</td><td><div class=\"dni-plaintext\">71974129</div></td><td><div class=\"dni-plaintext\">50</div></td><td><div class=\"dni-plaintext\">&lt;null&gt;</div></td><td><div class=\"dni-plaintext\">45858.00000</div></td><td><div class=\"dni-plaintext\">0.14125797</div></td><td><span>2021-08-15 07:47:42Z</span></td><td><span>Buy</span></td><td><span>Limit</span></td></tr><tr><td>11</td><td><div class=\"dni-plaintext\">71974130</div></td><td><div class=\"dni-plaintext\">50</div></td><td><div class=\"dni-plaintext\">&lt;null&gt;</div></td><td><div class=\"dni-plaintext\">45857.90000</div></td><td><div class=\"dni-plaintext\">0.00013519</div></td><td><span>2021-08-15 07:47:43Z</span></td><td><span>Buy</span></td><td><span>Limit</span></td></tr><tr><td>12</td><td><div class=\"dni-plaintext\">71974131</div></td><td><div class=\"dni-plaintext\">50</div></td><td><div class=\"dni-plaintext\">&lt;null&gt;</div></td><td><div class=\"dni-plaintext\">45852.90000</div></td><td><div class=\"dni-plaintext\">0.00148839</div></td><td><span>2021-08-15 07:47:43Z</span></td><td><span>Buy</span></td><td><span>Limit</span></td></tr><tr><td>13</td><td><div class=\"dni-plaintext\">71974132</div></td><td><div class=\"dni-plaintext\">50</div></td><td><div class=\"dni-plaintext\">&lt;null&gt;</div></td><td><div class=\"dni-plaintext\">45850.00000</div></td><td><div class=\"dni-plaintext\">0.05115204</div></td><td><span>2021-08-15 07:47:43Z</span></td><td><span>Buy</span></td><td><span>Limit</span></td></tr><tr><td>14</td><td><div class=\"dni-plaintext\">71974133</div></td><td><div class=\"dni-plaintext\">50</div></td><td><div class=\"dni-plaintext\">&lt;null&gt;</div></td><td><div class=\"dni-plaintext\">45850.00000</div></td><td><div class=\"dni-plaintext\">0.04884796</div></td><td><span>2021-08-15 07:47:43Z</span></td><td><span>Buy</span></td><td><span>Limit</span></td></tr><tr><td>15</td><td><div class=\"dni-plaintext\">71974134</div></td><td><div class=\"dni-plaintext\">50</div></td><td><div class=\"dni-plaintext\">&lt;null&gt;</div></td><td><div class=\"dni-plaintext\">45850.00000</div></td><td><div class=\"dni-plaintext\">0.00250000</div></td><td><span>2021-08-15 07:47:43Z</span></td><td><span>Buy</span></td><td><span>Limit</span></td></tr><tr><td>16</td><td><div class=\"dni-plaintext\">71974135</div></td><td><div class=\"dni-plaintext\">50</div></td><td><div class=\"dni-plaintext\">&lt;null&gt;</div></td><td><div class=\"dni-plaintext\">45850.00000</div></td><td><div class=\"dni-plaintext\">0.14700000</div></td><td><span>2021-08-15 07:47:43Z</span></td><td><span>Buy</span></td><td><span>Limit</span></td></tr><tr><td>17</td><td><div class=\"dni-plaintext\">71974136</div></td><td><div class=\"dni-plaintext\">50</div></td><td><div class=\"dni-plaintext\">&lt;null&gt;</div></td><td><div class=\"dni-plaintext\">45850.00000</div></td><td><div class=\"dni-plaintext\">0.00038790</div></td><td><span>2021-08-15 07:47:43Z</span></td><td><span>Buy</span></td><td><span>Limit</span></td></tr><tr><td>18</td><td><div class=\"dni-plaintext\">71974137</div></td><td><div class=\"dni-plaintext\">50</div></td><td><div class=\"dni-plaintext\">&lt;null&gt;</div></td><td><div class=\"dni-plaintext\">45850.00000</div></td><td><div class=\"dni-plaintext\">0.00000101</div></td><td><span>2021-08-15 07:47:43Z</span></td><td><span>Buy</span></td><td><span>Limit</span></td></tr><tr><td>19</td><td><div class=\"dni-plaintext\">71974138</div></td><td><div class=\"dni-plaintext\">50</div></td><td><div class=\"dni-plaintext\">&lt;null&gt;</div></td><td><div class=\"dni-plaintext\">45850.10000</div></td><td><div class=\"dni-plaintext\">0.01200000</div></td><td><span>2021-08-15 07:47:43Z</span></td><td><span>Buy</span></td><td><span>Limit</span></td></tr><tr><td colspan=\"9\"><i>... (more)</i></td></tr></tbody></table>"
      ]
     },
     "metadata": {},
     "output_type": "display_data"
    }
   ],
   "source": [
    "db.Trades.Take(100)"
   ]
  },
  {
   "cell_type": "code",
   "execution_count": null,
   "metadata": {
    "dotnet_interactive": {
     "language": "csharp"
    }
   },
   "outputs": [
    {
     "data": {
      "text/html": [
       "<table><thead><tr><th><i>index</i></th><th>value</th></tr></thead><tbody><tr><td>0</td><td><div class=\"dni-plaintext\">[ 2020-01-01 00:00:00Z, 2020-01-02 00:00:00Z, 2020-01-03 00:00:00Z, 2020-01-04 00:00:00Z, 2020-01-05 00:00:00Z, 2020-01-06 00:00:00Z, 2020-01-07 00:00:00Z, 2020-01-08 00:00:00Z, 2020-01-09 00:00:00Z, 2020-01-10 00:00:00Z, 2020-01-11 00:00:00Z, 2020-01-12 00:00:00Z, 2020-01-13 00:00:00Z, 2020-01-14 00:00:00Z, 2020-01-15 00:00:00Z, 2020-01-16 00:00:00Z, 2020-01-17 00:00:00Z, 2020-01-18 00:00:00Z, 2020-01-19 00:00:00Z, 2020-01-20 00:00:00Z ... (40 more) ]</div></td></tr><tr><td>1</td><td><div class=\"dni-plaintext\">[ 2020-03-01 00:00:00Z, 2020-03-02 00:00:00Z, 2020-03-03 00:00:00Z, 2020-03-04 00:00:00Z, 2020-03-05 00:00:00Z, 2020-03-06 00:00:00Z, 2020-03-07 00:00:00Z, 2020-03-08 00:00:00Z, 2020-03-09 00:00:00Z, 2020-03-10 00:00:00Z, 2020-03-11 00:00:00Z, 2020-03-12 00:00:00Z, 2020-03-13 00:00:00Z, 2020-03-14 00:00:00Z, 2020-03-15 00:00:00Z, 2020-03-16 00:00:00Z, 2020-03-17 00:00:00Z, 2020-03-18 00:00:00Z, 2020-03-19 00:00:00Z, 2020-03-20 00:00:00Z ... (20 more) ]</div></td></tr></tbody></table>"
      ]
     },
     "metadata": {},
     "output_type": "display_data"
    }
   ],
   "source": [
    "Enumerable.Range(0, 100).Select(i => new DateTime(2020, 1, 1).AddDays(i))\n",
    "    .GroupBy(dt => \n",
    "        (int)\n",
    "        Math.Round(\n",
    "            (dt.Year * 100.0 + dt.Month) / 2.0,\n",
    "            0,\n",
    "            MidpointRounding.AwayFromZero))"
   ]
  },
  {
   "cell_type": "code",
   "execution_count": null,
   "metadata": {
    "dotnet_interactive": {
     "language": "csharp"
    }
   },
   "outputs": [
    {
     "ename": "Error",
     "evalue": "(3,39): error CS0103: The name 'symbol_id' does not exist in the current context\r\n(13,13): error CS0246: The type or namespace name 'Candle' could not be found (are you missing a using directive or an assembly reference?)",
     "output_type": "error",
     "traceback": [
      "(3,39): error CS0103: The name 'symbol_id' does not exist in the current context\r\n",
      "(13,13): error CS0246: The type or namespace name 'Candle' could not be found (are you missing a using directive or an assembly reference?)"
     ]
    }
   ],
   "source": [
    "var result =\n",
    "db.Trades\n",
    "    .Where(trade => trade.SymbolId == symbol_id)\n",
    "    .ToList()\n",
    "    .GroupBy(trade => new\n",
    "    {\n",
    "        Val = (int)Math.Round(\n",
    "            (trade.TimeStamp.Year * 100.0 + trade.TimeStamp.Month) / 15.0,\n",
    "            0,\n",
    "            MidpointRounding.AwayFromZero)\n",
    "    })\n",
    "    .Select(group =>\n",
    "        new Candle()\n",
    "        {\n",
    "            DateTime = group.Min(trade => trade.TimeStamp),\n",
    "\n",
    "            High = group.Max(trade => trade.Price),\n",
    "            Low = group.Min(trade => trade.Price)\n",
    "        });"
   ]
  },
  {
   "cell_type": "code",
   "execution_count": null,
   "metadata": {
    "dotnet_interactive": {
     "language": "csharp"
    }
   },
   "outputs": [],
   "source": []
  }
 ],
 "metadata": {
  "kernelspec": {
   "display_name": ".NET (C#)",
   "language": "C#",
   "name": ".net-csharp"
  },
  "language_info": {
   "name": "C#"
  }
 },
 "nbformat": 4,
 "nbformat_minor": 2
}
