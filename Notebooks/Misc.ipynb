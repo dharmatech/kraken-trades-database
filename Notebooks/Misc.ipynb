{
 "cells": [
  {
   "cell_type": "code",
   "execution_count": null,
   "metadata": {
    "dotnet_interactive": {
     "language": "csharp"
    }
   },
   "outputs": [
    {
     "data": {
      "text/html": [
       "<div><div></div><div></div><div><strong>Installed Packages</strong><ul><li><span>KrakenExchange.Net, 2.2.3</span></li><li><span>Microsoft.EntityFrameworkCore.Design, 6.0.0</span></li><li><span>Npgsql.EntityFrameworkCore.PostgreSQL, 6.0.1</span></li></ul></div></div>"
      ]
     },
     "metadata": {},
     "output_type": "display_data"
    }
   ],
   "source": [
    "#r \"nuget:Microsoft.EntityFrameworkCore.Design\"\n",
    "#r \"nuget:Npgsql.EntityFrameworkCore.PostgreSQL\"\n",
    "#r \"nuget:KrakenExchange.Net,2.2.3\"\n",
    "\n",
    "#r \".\\KrakenTradesDatabase\\bin\\Debug\\net6.0\\KrakenTradesDatabase.dll\""
   ]
  },
  {
   "cell_type": "code",
   "execution_count": null,
   "metadata": {
    "dotnet_interactive": {
     "language": "csharp"
    }
   },
   "outputs": [],
   "source": [
    "using KrakenTradesDatabase;\n",
    "\n",
    "var db = new AppDbContext();"
   ]
  },
  {
   "cell_type": "code",
   "execution_count": null,
   "metadata": {
    "dotnet_interactive": {
     "language": "csharp"
    }
   },
   "outputs": [
    {
     "data": {
      "text/html": [
       "<table><thead><tr><th><i>index</i></th><th>Id</th><th>Name</th></tr></thead><tbody><tr><td>0</td><td><div class=\"dni-plaintext\">1</div></td><td>1INCHEUR</td></tr><tr><td>1</td><td><div class=\"dni-plaintext\">2</div></td><td>1INCHUSD</td></tr><tr><td>2</td><td><div class=\"dni-plaintext\">3</div></td><td>AAVEAUD</td></tr><tr><td>3</td><td><div class=\"dni-plaintext\">4</div></td><td>AAVEETH</td></tr><tr><td>4</td><td><div class=\"dni-plaintext\">5</div></td><td>AAVEEUR</td></tr><tr><td>5</td><td><div class=\"dni-plaintext\">6</div></td><td>AAVEGBP</td></tr><tr><td>6</td><td><div class=\"dni-plaintext\">7</div></td><td>AAVEUSD</td></tr><tr><td>7</td><td><div class=\"dni-plaintext\">8</div></td><td>AAVEXBT</td></tr><tr><td>8</td><td><div class=\"dni-plaintext\">9</div></td><td>ADAAUD</td></tr><tr><td>9</td><td><div class=\"dni-plaintext\">10</div></td><td>ADAETH</td></tr><tr><td>10</td><td><div class=\"dni-plaintext\">11</div></td><td>ADAEUR</td></tr><tr><td>11</td><td><div class=\"dni-plaintext\">12</div></td><td>ADAGBP</td></tr><tr><td>12</td><td><div class=\"dni-plaintext\">13</div></td><td>ADAUSD</td></tr><tr><td>13</td><td><div class=\"dni-plaintext\">14</div></td><td>ADAUSDT</td></tr><tr><td>14</td><td><div class=\"dni-plaintext\">15</div></td><td>ADAXBT</td></tr><tr><td>15</td><td><div class=\"dni-plaintext\">16</div></td><td>ALGOETH</td></tr><tr><td>16</td><td><div class=\"dni-plaintext\">17</div></td><td>ALGOEUR</td></tr><tr><td>17</td><td><div class=\"dni-plaintext\">18</div></td><td>ALGOGBP</td></tr><tr><td>18</td><td><div class=\"dni-plaintext\">19</div></td><td>ALGOUSD</td></tr><tr><td>19</td><td><div class=\"dni-plaintext\">20</div></td><td>ALGOXBT</td></tr><tr><td colspan=\"3\"><i>... (more)</i></td></tr></tbody></table>"
      ]
     },
     "metadata": {},
     "output_type": "display_data"
    }
   ],
   "source": [
    "db.Symbols"
   ]
  },
  {
   "cell_type": "code",
   "execution_count": null,
   "metadata": {
    "dotnet_interactive": {
     "language": "csharp"
    }
   },
   "outputs": [],
   "source": []
  }
 ],
 "metadata": {
  "kernelspec": {
   "display_name": ".NET (C#)",
   "language": "C#",
   "name": ".net-csharp"
  },
  "language_info": {
   "name": "C#"
  }
 },
 "nbformat": 4,
 "nbformat_minor": 2
}
